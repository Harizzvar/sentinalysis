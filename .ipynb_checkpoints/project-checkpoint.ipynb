{
 "cells": [
  {
   "cell_type": "markdown",
   "id": "838e1c6b-8e8b-4504-875c-59b115e24782",
   "metadata": {},
   "source": [
    "## <font size=5> <strong>Sentiment analysis"
   ]
  },
  {
   "cell_type": "markdown",
   "id": "091d0aab-05bb-4b28-a7dc-0d42661ffc63",
   "metadata": {},
   "source": [
    "## I. Importing essential libraries"
   ]
  },
  {
   "cell_type": "code",
   "execution_count": 1,
   "id": "e5585901-25b8-4b08-a5b8-4dd20efaf683",
   "metadata": {},
   "outputs": [],
   "source": [
    "import numpy as np\n",
    "import pandas as pd\n",
    "from sklearn.model_selection import train_test_split\n",
    "from sklearn.preprocessing import LabelEncoder\n",
    "from sklearn.feature_extraction.text import TfidfVectorizer\n",
    "from sklearn import  svm\n",
    "from sklearn.naive_bayes import MultinomialNB\n",
    "from sklearn.metrics import accuracy_score"
   ]
  },
  {
   "cell_type": "markdown",
   "id": "b1290749-ee5a-47fe-8f7a-087fd7e26322",
   "metadata": {},
   "source": [
    "setting the seed value to ensure that you get the same sequence of random numbers every time"
   ]
  },
  {
   "cell_type": "code",
   "execution_count": 2,
   "id": "6cf9fb05-7cc9-460b-a630-fd2696b706dc",
   "metadata": {},
   "outputs": [],
   "source": [
    "np.random.seed(500)"
   ]
  },
  {
   "cell_type": "markdown",
   "id": "e5ff24a8-25e7-492c-b93e-0ff7505281e3",
   "metadata": {},
   "source": [
    "## II. Importing and understanding our dataset "
   ]
  },
  {
   "cell_type": "code",
   "execution_count": 3,
   "id": "f648799b-dd14-484c-8571-8e02cee85aa0",
   "metadata": {},
   "outputs": [],
   "source": [
    "data = pd.read_csv('training.csv',encoding='latin1')\n",
    "#print(data['Sentence'])\n",
    "data.dropna(inplace=True)\n",
    "#Change all the text to lower case. This is required as python interprets 'bin' and 'BIN' differently\n",
    "data['Sentence'] = [entry.lower() for entry in data['Sentence']]\n",
    "data['Sentiment'] = np.where(data['Sentiment'].str.contains('positive'), 1, 0)\n"
   ]
  },
  {
   "cell_type": "markdown",
   "id": "d5ca8f0b-cba1-470b-99c3-78919f697944",
   "metadata": {},
   "source": [
    "shape of data"
   ]
  },
  {
   "cell_type": "code",
   "execution_count": 4,
   "id": "2f011d1c-121d-4f30-904d-eea2b05fa8ca",
   "metadata": {},
   "outputs": [
    {
     "data": {
      "text/plain": [
       "(218, 2)"
      ]
     },
     "execution_count": 4,
     "metadata": {},
     "output_type": "execute_result"
    }
   ],
   "source": [
    "data.shape"
   ]
  },
  {
   "cell_type": "code",
   "execution_count": 5,
   "id": "1eb9acf0-11ed-44c7-9f6c-910a938910a8",
   "metadata": {},
   "outputs": [
    {
     "data": {
      "text/html": [
       "<div>\n",
       "<style scoped>\n",
       "    .dataframe tbody tr th:only-of-type {\n",
       "        vertical-align: middle;\n",
       "    }\n",
       "\n",
       "    .dataframe tbody tr th {\n",
       "        vertical-align: top;\n",
       "    }\n",
       "\n",
       "    .dataframe thead th {\n",
       "        text-align: right;\n",
       "    }\n",
       "</style>\n",
       "<table border=\"1\" class=\"dataframe\">\n",
       "  <thead>\n",
       "    <tr style=\"text-align: right;\">\n",
       "      <th></th>\n",
       "      <th>Sentiment</th>\n",
       "    </tr>\n",
       "  </thead>\n",
       "  <tbody>\n",
       "    <tr>\n",
       "      <th>count</th>\n",
       "      <td>218.000000</td>\n",
       "    </tr>\n",
       "    <tr>\n",
       "      <th>mean</th>\n",
       "      <td>0.412844</td>\n",
       "    </tr>\n",
       "    <tr>\n",
       "      <th>std</th>\n",
       "      <td>0.493478</td>\n",
       "    </tr>\n",
       "    <tr>\n",
       "      <th>min</th>\n",
       "      <td>0.000000</td>\n",
       "    </tr>\n",
       "    <tr>\n",
       "      <th>25%</th>\n",
       "      <td>0.000000</td>\n",
       "    </tr>\n",
       "    <tr>\n",
       "      <th>50%</th>\n",
       "      <td>0.000000</td>\n",
       "    </tr>\n",
       "    <tr>\n",
       "      <th>75%</th>\n",
       "      <td>1.000000</td>\n",
       "    </tr>\n",
       "    <tr>\n",
       "      <th>max</th>\n",
       "      <td>1.000000</td>\n",
       "    </tr>\n",
       "  </tbody>\n",
       "</table>\n",
       "</div>"
      ],
      "text/plain": [
       "        Sentiment\n",
       "count  218.000000\n",
       "mean     0.412844\n",
       "std      0.493478\n",
       "min      0.000000\n",
       "25%      0.000000\n",
       "50%      0.000000\n",
       "75%      1.000000\n",
       "max      1.000000"
      ]
     },
     "execution_count": 5,
     "metadata": {},
     "output_type": "execute_result"
    }
   ],
   "source": [
    "data.describe()"
   ]
  },
  {
   "cell_type": "markdown",
   "id": "73c3cfe6-4157-4007-85bf-e9bdb7b23bcf",
   "metadata": {},
   "source": [
    "## III. Train Test split"
   ]
  },
  {
   "cell_type": "code",
   "execution_count": 7,
   "id": "8ef9bafd-2db1-4e55-b7dc-ab8381eb44b0",
   "metadata": {},
   "outputs": [],
   "source": [
    "Train_X, Test_X, Train_Y, Test_Y = train_test_split(data['Sentence'],data['Sentiment'],test_size=0.3)\n",
    "#70-30"
   ]
  },
  {
   "cell_type": "markdown",
   "id": "411b9bed-1a59-4254-a47e-589e62b822d6",
   "metadata": {},
   "source": [
    "## IV. Tokenization and removing stop words"
   ]
  },
  {
   "cell_type": "code",
   "execution_count": 10,
   "id": "36407cab-0275-4a4d-b063-9d8413766bfb",
   "metadata": {},
   "outputs": [
    {
     "name": "stdout",
     "output_type": "stream",
     "text": [
      "(152, 361) (152,)\n"
     ]
    }
   ],
   "source": [
    "Encoder = LabelEncoder()\n",
    "Train_Y = Encoder.fit_transform(Train_Y)\n",
    "Test_Y = Encoder.fit_transform(Test_Y)\n",
    "vectorizer = TfidfVectorizer(stop_words='english')\n",
    "vectorizer.fit_transform(data['Sentence'])\n",
    "feature_names = vectorizer.get_feature_names_out()\n",
    "#print(response)\n",
    "Train_X_Tfidf = vectorizer.transform(Train_X)\n",
    "Test_X_Tfidf = vectorizer.transform(Test_X)\n",
    "print(Train_X_Tfidf.shape,Train_Y.shape)\n"
   ]
  },
  {
   "cell_type": "markdown",
   "id": "e7186af8-3607-4f79-a020-0f624ee20e43",
   "metadata": {},
   "source": [
    "## V. Model Fitting"
   ]
  },
  {
   "cell_type": "markdown",
   "id": "8b74a5b2-56ac-4e53-a67c-d4cb294abf85",
   "metadata": {},
   "source": [
    "### Support Vector Machine"
   ]
  },
  {
   "cell_type": "code",
   "execution_count": 20,
   "id": "b487aec8-de98-4de3-904d-417baaffeb23",
   "metadata": {},
   "outputs": [
    {
     "name": "stdout",
     "output_type": "stream",
     "text": [
      "SVM Accuracy Score ->  66.66666666666666\n"
     ]
    }
   ],
   "source": [
    "SVM = svm.SVC(C=1.0, kernel='linear', degree=3, gamma='auto')\n",
    "SVM.fit(Train_X_Tfidf,Train_Y)\n",
    "# predict the labels on validation dataset\n",
    "predictions_SVM = SVM.predict(Test_X_Tfidf)\n",
    "# Use accuracy_score function to get the accuracy\n",
    "print(\"SVM Accuracy Score -> \",accuracy_score(predictions_SVM, Test_Y)*100)\n",
    "#print(Test_Y,predictions_SVM)"
   ]
  },
  {
   "cell_type": "markdown",
   "id": "42030e61-8c3d-4cbb-add8-0e146709ac6b",
   "metadata": {},
   "source": [
    "### Naive Bayes Model"
   ]
  },
  {
   "cell_type": "code",
   "execution_count": 17,
   "id": "66c56b4f-a013-4ee6-9bf2-c9543f9d69fa",
   "metadata": {},
   "outputs": [
    {
     "name": "stdout",
     "output_type": "stream",
     "text": [
      "Naive Bayes Accuracy Score ->  68.18181818181817\n"
     ]
    }
   ],
   "source": [
    "NB = MultinomialNB()\n",
    "NB.fit(Train_X_Tfidf, Train_Y)\n",
    "predictions_NB = NB.predict(Test_X_Tfidf)\n",
    "print(\"Naive Bayes Accuracy Score -> \", accuracy_score(predictions_NB, Test_Y) * 100)"
   ]
  },
  {
   "cell_type": "markdown",
   "id": "739f9709-7e08-49b4-92ff-38046d8e182c",
   "metadata": {},
   "source": [
    "## VI. Testing data with user inputs"
   ]
  },
  {
   "cell_type": "code",
   "execution_count": 16,
   "id": "c677370c-08b9-4d4b-8c7b-14af0a27da38",
   "metadata": {},
   "outputs": [
    {
     "name": "stdout",
     "output_type": "stream",
     "text": [
      "Enter sentences: \n"
     ]
    },
    {
     "name": "stdin",
     "output_type": "stream",
     "text": [
      " inspiring good\n",
      " very bad\n"
     ]
    },
    {
     "name": "stdout",
     "output_type": "stream",
     "text": [
      "---- SVM: positive\n",
      "---- SVM: negative\n",
      "---- Naive Bayes: positive\n",
      "---- Naive Bayes: negative\n"
     ]
    }
   ],
   "source": [
    "print(\"Enter sentences: \")\n",
    "sentences = []\n",
    "for i in range(2):\n",
    "    sentence = input()\n",
    "    sentences.append(sentence)\n",
    "\n",
    "test_data = vectorizer.transform(sentences)\n",
    "\n",
    "predictions_SVM = SVM.predict(test_data)\n",
    "predictions_NB = NB.predict(test_data)\n",
    "\n",
    "for prediction in predictions_SVM:\n",
    "    if prediction == 1:\n",
    "        print(\"---- SVM: positive\")\n",
    "    else:\n",
    "        print(\"---- SVM: negative\")\n",
    "\n",
    "for prediction in predictions_NB:\n",
    "    if prediction == 1:\n",
    "        print(\"---- Naive Bayes: positive\")\n",
    "    else:\n",
    "        print(\"---- Naive Bayes: negative\")"
   ]
  },
  {
   "cell_type": "code",
   "execution_count": null,
   "id": "e72aa9e6-b4f0-4c9c-bdb3-bed5947b32a3",
   "metadata": {},
   "outputs": [],
   "source": []
  }
 ],
 "metadata": {
  "kernelspec": {
   "display_name": "Python 3 (ipykernel)",
   "language": "python",
   "name": "python3"
  },
  "language_info": {
   "codemirror_mode": {
    "name": "ipython",
    "version": 3
   },
   "file_extension": ".py",
   "mimetype": "text/x-python",
   "name": "python",
   "nbconvert_exporter": "python",
   "pygments_lexer": "ipython3",
   "version": "3.10.13"
  }
 },
 "nbformat": 4,
 "nbformat_minor": 5
}
